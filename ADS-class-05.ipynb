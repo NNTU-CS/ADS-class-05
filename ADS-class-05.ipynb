{
 "cells": [
  {
   "cell_type": "markdown",
   "metadata": {},
   "source": [
    "# Практическое занятие 05. Стек и массив на связанном списке\n",
    "\n"
   ]
  },
  {
   "cell_type": "markdown",
   "metadata": {},
   "source": [
    "**Связанный список** - динамическая линейная структура данных, состоящая из узлов (элементов), связанных друг с другом. Связь реализуется через указатели или ссылки.\n",
    "\n",
    "<img src=\"1.png\" alt=\"drawing\" width=\"450\"/>"
   ]
  },
  {
   "cell_type": "markdown",
   "metadata": {},
   "source": [
    "### Виды списков\n",
    "\n",
    "В зависимости от числа связей и их характера списки обычно делят на:\n",
    "\n",
    "- Односвязные (в элементе хранится адрес следующего элемента)\n",
    "- Двусвязные (в элементе хранятся адреса следующего и предыдущего элементов)\n",
    "- Кольцевые (в последнем элементе хранится адрес первого)\n"
   ]
  },
  {
   "cell_type": "markdown",
   "metadata": {},
   "source": [
    "### Реализация односвязанного списка"
   ]
  },
  {
   "cell_type": "code",
   "execution_count": 1,
   "metadata": {},
   "outputs": [],
   "source": [
    "#include <iostream>\n",
    "#include <string>"
   ]
  },
  {
   "cell_type": "code",
   "execution_count": 2,
   "metadata": {
    "scrolled": true
   },
   "outputs": [],
   "source": [
    "#include <cassert>\n",
    "#include <iostream> \n",
    "\n",
    "template<typename T>\n",
    "class TList {\n",
    "private:\n",
    "    struct ITEM {\n",
    "        T data;\n",
    "        ITEM * next;\n",
    "    };\n",
    "public:\n",
    "    TList():head(nullptr),tail(nullptr){}\n",
    "    TList(const T&);\n",
    "    TList(const TList&);\n",
    "    ~TList();\n",
    "    void addTail(const T&);\n",
    "    void addHead(const T&);\n",
    "    T rmHead();\n",
    "    void print() const;\n",
    "private:\n",
    "    TList::ITEM* create(const T&);\n",
    "    ITEM *head;\n",
    "    ITEM *tail;\n",
    "};\n",
    "\n",
    "template<typename T>\n",
    "typename TList<T>::ITEM* TList<T>::create(const T& data) {\n",
    "   ITEM *item=new ITEM;\n",
    "   item->data=data;\n",
    "   item->next=nullptr;\n",
    "   return item;\n",
    "}\n",
    "\n",
    "template<typename T>\n",
    "TList<T>::TList(const T& data) {\n",
    "    head=create(data);\n",
    "    tail=head;\n",
    "}\n",
    "\n",
    "template<typename T>\n",
    "TList<T>::~TList() {\n",
    "    while(head)\n",
    "        rmHead();\n",
    "}\n",
    "\n",
    "template<typename T>\n",
    "void TList<T>::addTail(const T& data) {\n",
    "    if(tail && head) {\n",
    "        tail->next=create(data);\n",
    "        tail=tail->next;\n",
    "    }\n",
    "    else {\n",
    "        head=create(data);\n",
    "        tail=head;\n",
    "    }\n",
    "}\n",
    "\n",
    "template<typename T>\n",
    "void TList<T>::addHead(const T& data) {\n",
    "    if(tail && head) {\n",
    "        ITEM *temp=create(data);\n",
    "        temp->next=head;\n",
    "        head=temp;\n",
    "    }\n",
    "    else {\n",
    "        head=create(data);\n",
    "        tail=head;\n",
    "    }\n",
    "}\n",
    "\n",
    "template<typename T>\n",
    "T TList<T>::rmHead() {\n",
    "    if(head) {\n",
    "        ITEM *temp=head->next;\n",
    "        T data=head->data;\n",
    "        delete head;\n",
    "        head=temp;\n",
    "        return data;\n",
    "    }\n",
    "    else {\n",
    "        return (T)0;\n",
    "    }\n",
    "}\n",
    "\n",
    "template<typename T>\n",
    "void TList<T>::print() const {\n",
    "    ITEM *temp=head;\n",
    "    while(temp) {\n",
    "        std::cout<<temp->data<<\" \";\n",
    "        temp=temp->next;\n",
    "    }\n",
    "    std::cout<<std::endl;\n",
    "}"
   ]
  },
  {
   "cell_type": "markdown",
   "metadata": {},
   "source": [
    "#### Пример использования TList"
   ]
  },
  {
   "cell_type": "code",
   "execution_count": 8,
   "metadata": {},
   "outputs": [
    {
     "name": "stdout",
     "output_type": "stream",
     "text": [
      "1 \n",
      "1 2 \n",
      "1 2 3 \n",
      "1 2 3 4 \n",
      "2 3 4 \n",
      "3 4 \n"
     ]
    }
   ],
   "source": [
    "TList <int> list;\n",
    "list.addTail(1);\n",
    "list.print();\n",
    "list.addTail(2);\n",
    "list.print();\n",
    "list.addTail(3);\n",
    "list.print();\n",
    "list.addTail(4);\n",
    "list.print();\n",
    "\n",
    "list.rmHead();\n",
    "list.print();\n",
    "list.rmHead();\n",
    "list.print();\n",
    "//std::cout << q.getSize() << std::endl;\n"
   ]
  },
  {
   "cell_type": "markdown",
   "metadata": {},
   "source": [
    "### Реализация стека\n",
    "\n",
    "*Задача:* реализовать стек на основе шаблона TList"
   ]
  },
  {
   "cell_type": "markdown",
   "metadata": {},
   "source": [
    "### Реализация очереди\n",
    "\n",
    "*Задача:* реализовать очередь на основе шаблона TList"
   ]
  },
  {
   "cell_type": "markdown",
   "metadata": {},
   "source": [
    "### Очереди с приоритетом"
   ]
  },
  {
   "cell_type": "markdown",
   "metadata": {},
   "source": [
    "**Очереди с приоритетом** — разновидность очередей, в которой у каждого элемента есть свой приоритет. Обслуживаются они в соответствии со своими приоритетом. Если у элементов одинаковый приоритет, то обслуживаются они по их порядку в очереди."
   ]
  },
  {
   "cell_type": "markdown",
   "metadata": {},
   "source": [
    "*Задача:* реализовать очередь с приоритетами на связанном списке"
   ]
  },
  {
   "cell_type": "code",
   "execution_count": null,
   "metadata": {},
   "outputs": [],
   "source": []
  }
 ],
 "metadata": {
  "kernelspec": {
   "display_name": "C++11 [conda env:xeus-cling]",
   "language": "C++11",
   "name": "conda-env-xeus-cling-xcpp11"
  },
  "language_info": {
   "codemirror_mode": "text/x-c++src",
   "file_extension": ".cpp",
   "mimetype": "text/x-c++src",
   "name": "c++",
   "version": "11"
  }
 },
 "nbformat": 4,
 "nbformat_minor": 4
}
